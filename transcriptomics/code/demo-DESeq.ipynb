{
 "cells": [
  {
   "cell_type": "code",
   "execution_count": 2,
   "metadata": {},
   "outputs": [],
   "source": [
    "pacman::p_load(DESeq2,dplyr,tidyverse)"
   ]
  },
  {
   "cell_type": "code",
   "execution_count": 2,
   "metadata": {
    "collapsed": true
   },
   "outputs": [
    {
     "name": "stderr",
     "output_type": "stream",
     "text": [
      "Bioconductor version 3.10 (BiocManager 1.30.10), R 3.6.1 (2019-07-05)\n",
      "\n",
      "Installing package(s) 'DESeq2'\n",
      "\n",
      "also installing the dependencies ‘DelayedArray’, ‘SummarizedExperiment’, ‘BiocParallel’\n",
      "\n",
      "\n",
      "Updating HTML index of packages in '.Library'\n",
      "\n",
      "Making 'packages.html' ...\n",
      " done\n",
      "\n",
      "Old packages: 'ade4', 'ape', 'arules', 'arulesViz', 'betapart', 'biclust',\n",
      "  'BiocManager', 'bit', 'bit64', 'bitops', 'boot', 'brio', 'broom', 'callr',\n",
      "  'caret', 'circlize', 'class', 'cli', 'clue', 'cluster', 'codetools', 'coin',\n",
      "  'colorspace', 'comprehenr', 'config', 'corrplot', 'covr', 'curl', 'DBI',\n",
      "  'dbplyr', 'deldir', 'dendextend', 'DEoptimR', 'Deriv', 'desc', 'descr',\n",
      "  'devtools', 'diffobj', 'diptest', 'doBy', 'dotCall64', 'dplyr', 'DT',\n",
      "  'dtplyr', 'e1071', 'ellipsis', 'energy', 'expm', 'FactoMineR', 'fansi',\n",
      "  'fastcluster', 'fastmap', 'fields', 'flowCore', 'forcats', 'formatR',\n",
      "  'freetypeharfbuzz', 'fs', 'geepack', 'GetoptLong', 'GGally', 'ggsignif',\n",
      "  'ggspatial', 'gh', 'gistr', 'git2r', 'glmnet', 'gmp', 'haven', 'hexbin',\n",
      "  'highr', 'Hmisc', 'hms', 'httpuv', 'IRanges', 'IRdisplay', 'IRkernel',\n",
      "  'KernSmooth', 'knitr', 'later', 'lattice', 'libcoin', 'lightr', 'lme4',\n",
      "  'lwgeom', 'maptools', 'MASS', 'Matrix', 'memoise', 'mgcv', 'mice',\n",
      "  'mongolite', 'multcomp', 'nlme', 'nnet', 'oce', 'odbc', 'openssl', 'packrat',\n",
      "  'parallelly', 'party', 'pbdZMQ', 'pbkrtest', 'philentropy', 'pillar',\n",
      "  'pixmap', 'pkgload', 'PKI', 'plot3D', 'pmml', 'processx', 'profvis', 'ps',\n",
      "  'psych', 'quantmod', 'r2d3', 'rappdirs', 'raster', 'rbibutils',\n",
      "  'RcppArmadillo', 'RCurl', 'recipes', 'repr', 'reprex', 'reshape2',\n",
      "  'reticulate', 'Rfast', 'Rfast2', 'rgdal', 'rgeos', 'rio', 'rJava', 'rlang',\n",
      "  'rmarkdown', 'robustbase', 'roxygen2', 'rsconnect', 'RSQLite', 'rstatix',\n",
      "  'rversions', 'rvest', 'sandwich', 'segmented', 'seqinr', 'sf', 'shape',\n",
      "  'shiny', 'slam', 'sp', 'spam', 'sparklyr', 'spatial', 'statmod', 'stringi',\n",
      "  'testthat', 'tibble', 'tidyselect', 'tidyverse', 'tinytex', 'tm', 'TTR',\n",
      "  'units', 'usethis', 'vctrs', 'vegan', 'waldo', 'WGCNA', 'withr', 'xfun',\n",
      "  'xgboost', 'xts'\n",
      "\n"
     ]
    }
   ],
   "source": [
    "BiocManager::install(\"DESeq2\")"
   ]
  },
  {
   "cell_type": "markdown",
   "metadata": {},
   "source": [
    "Read in the count matrix containing the counts for each of the relevant stages of development that we are interested in. We're going to use the available count matrix rather than the TPM matrix, because `DESeq2` expects data in this format. Later, we'll use `tximport` to read in `Salmon` quantification output directly. When we use direct `Salmon` information, we know what length the assessed isoform gene is, so we can get accurate TPM value estimates. Check the following [link](http://www.bioconductor.org/packages/release/bioc/vignettes/DESeq2/inst/doc/DESeq2.html#why-un-normalized-counts) for more information on this, in particular why `DESeq2` expects either counts or full `Salmon` output, but not TPM!"
   ]
  },
  {
   "cell_type": "code",
   "execution_count": 3,
   "metadata": {},
   "outputs": [],
   "source": [
    "counts_matrix <- read.csv(file.path(\"..\",\"subsampled-data\",\"count-matrix-e89.csv\"))\n",
    "metadata_matrix <- read.csv(file.path(\"..\",\"subsampled-data\",\"sample-info.tsv\"),sep=\"\\t\")"
   ]
  },
  {
   "cell_type": "markdown",
   "metadata": {},
   "source": [
    "Now we need to make the labels of each consistent with one another. This is problematic because of the mismatched labels due to the label reading process. We'll just replace periods with hyphens when needed."
   ]
  },
  {
   "cell_type": "code",
   "execution_count": 5,
   "metadata": {},
   "outputs": [],
   "source": [
    "colnames(counts_matrix) = gsub(\"\\\\.\", \"-\", gsub(\"X\", \"\", colnames(counts_matrix)))"
   ]
  },
  {
   "cell_type": "code",
   "execution_count": 6,
   "metadata": {},
   "outputs": [
    {
     "data": {
      "text/html": [
       "<table class=\"dataframe\">\n",
       "<caption>A data.frame: 6 × 19</caption>\n",
       "<thead>\n",
       "\t<tr><th></th><th scope=col></th><th scope=col>128-cell-1</th><th scope=col>128-cell-2</th><th scope=col>128-cell-3</th><th scope=col>128-cell-4</th><th scope=col>128-cell-5</th><th scope=col>Day-4-1</th><th scope=col>Day-4-2</th><th scope=col>Day-4-3</th><th scope=col>Day-4-4</th><th scope=col>Day-4-5</th><th scope=col>Gene-ID</th><th scope=col>Chr</th><th scope=col>Start</th><th scope=col>End</th><th scope=col>Strand</th><th scope=col>Biotype</th><th scope=col>Name</th><th scope=col>Description</th></tr>\n",
       "\t<tr><th></th><th scope=col>&lt;int&gt;</th><th scope=col>&lt;int&gt;</th><th scope=col>&lt;int&gt;</th><th scope=col>&lt;int&gt;</th><th scope=col>&lt;int&gt;</th><th scope=col>&lt;int&gt;</th><th scope=col>&lt;int&gt;</th><th scope=col>&lt;int&gt;</th><th scope=col>&lt;int&gt;</th><th scope=col>&lt;int&gt;</th><th scope=col>&lt;int&gt;</th><th scope=col>&lt;fct&gt;</th><th scope=col>&lt;fct&gt;</th><th scope=col>&lt;int&gt;</th><th scope=col>&lt;int&gt;</th><th scope=col>&lt;int&gt;</th><th scope=col>&lt;fct&gt;</th><th scope=col>&lt;fct&gt;</th><th scope=col>&lt;fct&gt;</th></tr>\n",
       "</thead>\n",
       "<tbody>\n",
       "\t<tr><th scope=row>1</th><td>1</td><td>  93</td><td>  84</td><td> 122</td><td> 73</td><td>  74</td><td> 28</td><td> 19</td><td> 33</td><td> 17</td><td> 25</td><td>ENSDARG00000000001</td><td>9 </td><td>34302882</td><td>34312656</td><td>-1</td><td>protein_coding</td><td>slc35a5 </td><td>solute carrier family 35, member A5 [Source:ZFIN;Acc:ZDB-GENE-030616-55]                                                         </td></tr>\n",
       "\t<tr><th scope=row>2</th><td>2</td><td>  16</td><td>  10</td><td>  10</td><td> 13</td><td>  16</td><td>105</td><td>113</td><td>138</td><td>109</td><td>100</td><td>ENSDARG00000000002</td><td>9 </td><td>34279971</td><td>34304024</td><td> 1</td><td>protein_coding</td><td>ccdc80  </td><td>coiled-coil domain containing 80 [Source:ZFIN;Acc:ZDB-GENE-030616-56]                                                            </td></tr>\n",
       "\t<tr><th scope=row>3</th><td>3</td><td> 487</td><td> 549</td><td> 532</td><td>472</td><td> 535</td><td>176</td><td>119</td><td>154</td><td>147</td><td>135</td><td>ENSDARG00000000018</td><td>4 </td><td>15082630</td><td>15104891</td><td>-1</td><td>protein_coding</td><td>nrf1    </td><td>nuclear respiratory factor 1 [Source:ZFIN;Acc:ZDB-GENE-001221-1]                                                                 </td></tr>\n",
       "\t<tr><th scope=row>4</th><td>4</td><td>1048</td><td>1058</td><td>1037</td><td>987</td><td>1003</td><td>604</td><td>591</td><td>728</td><td>629</td><td>644</td><td>ENSDARG00000000019</td><td>4 </td><td>15012586</td><td>15061121</td><td> 1</td><td>protein_coding</td><td>ube2h   </td><td>ubiquitin-conjugating enzyme E2H (UBC8 homolog, yeast) [Source:ZFIN;Acc:ZDB-GENE-030616-67]                                      </td></tr>\n",
       "\t<tr><th scope=row>5</th><td>5</td><td> 487</td><td> 409</td><td> 492</td><td>451</td><td> 447</td><td>244</td><td>218</td><td>288</td><td>218</td><td>240</td><td>ENSDARG00000000068</td><td>12</td><td>33383475</td><td>33436143</td><td> 1</td><td>protein_coding</td><td>slc9a3r1</td><td>solute carrier family 9, subfamily A (NHE3, cation proton antiporter 3), member 3 regulator 1 [Source:ZFIN;Acc:ZDB-GENE-031006-7]</td></tr>\n",
       "\t<tr><th scope=row>6</th><td>6</td><td> 601</td><td> 575</td><td> 712</td><td>599</td><td> 589</td><td>498</td><td>474</td><td>545</td><td>530</td><td>496</td><td>ENSDARG00000000069</td><td>24</td><td>21925116</td><td>21958411</td><td>-1</td><td>protein_coding</td><td>dap     </td><td>death-associated protein [Source:ZFIN;Acc:ZDB-GENE-000511-3]                                                                     </td></tr>\n",
       "</tbody>\n",
       "</table>\n"
      ],
      "text/latex": [
       "A data.frame: 6 × 19\n",
       "\\begin{tabular}{r|lllllllllllllllllll}\n",
       "  &  & 128-cell-1 & 128-cell-2 & 128-cell-3 & 128-cell-4 & 128-cell-5 & Day-4-1 & Day-4-2 & Day-4-3 & Day-4-4 & Day-4-5 & Gene-ID & Chr & Start & End & Strand & Biotype & Name & Description\\\\\n",
       "  & <int> & <int> & <int> & <int> & <int> & <int> & <int> & <int> & <int> & <int> & <int> & <fct> & <fct> & <int> & <int> & <int> & <fct> & <fct> & <fct>\\\\\n",
       "\\hline\n",
       "\t1 & 1 &   93 &   84 &  122 &  73 &   74 &  28 &  19 &  33 &  17 &  25 & ENSDARG00000000001 & 9  & 34302882 & 34312656 & -1 & protein\\_coding & slc35a5  & solute carrier family 35, member A5 {[}Source:ZFIN;Acc:ZDB-GENE-030616-55{]}                                                         \\\\\n",
       "\t2 & 2 &   16 &   10 &   10 &  13 &   16 & 105 & 113 & 138 & 109 & 100 & ENSDARG00000000002 & 9  & 34279971 & 34304024 &  1 & protein\\_coding & ccdc80   & coiled-coil domain containing 80 {[}Source:ZFIN;Acc:ZDB-GENE-030616-56{]}                                                            \\\\\n",
       "\t3 & 3 &  487 &  549 &  532 & 472 &  535 & 176 & 119 & 154 & 147 & 135 & ENSDARG00000000018 & 4  & 15082630 & 15104891 & -1 & protein\\_coding & nrf1     & nuclear respiratory factor 1 {[}Source:ZFIN;Acc:ZDB-GENE-001221-1{]}                                                                 \\\\\n",
       "\t4 & 4 & 1048 & 1058 & 1037 & 987 & 1003 & 604 & 591 & 728 & 629 & 644 & ENSDARG00000000019 & 4  & 15012586 & 15061121 &  1 & protein\\_coding & ube2h    & ubiquitin-conjugating enzyme E2H (UBC8 homolog, yeast) {[}Source:ZFIN;Acc:ZDB-GENE-030616-67{]}                                      \\\\\n",
       "\t5 & 5 &  487 &  409 &  492 & 451 &  447 & 244 & 218 & 288 & 218 & 240 & ENSDARG00000000068 & 12 & 33383475 & 33436143 &  1 & protein\\_coding & slc9a3r1 & solute carrier family 9, subfamily A (NHE3, cation proton antiporter 3), member 3 regulator 1 {[}Source:ZFIN;Acc:ZDB-GENE-031006-7{]}\\\\\n",
       "\t6 & 6 &  601 &  575 &  712 & 599 &  589 & 498 & 474 & 545 & 530 & 496 & ENSDARG00000000069 & 24 & 21925116 & 21958411 & -1 & protein\\_coding & dap      & death-associated protein {[}Source:ZFIN;Acc:ZDB-GENE-000511-3{]}                                                                     \\\\\n",
       "\\end{tabular}\n"
      ],
      "text/markdown": [
       "\n",
       "A data.frame: 6 × 19\n",
       "\n",
       "| <!--/--> | <!----> &lt;int&gt; | 128-cell-1 &lt;int&gt; | 128-cell-2 &lt;int&gt; | 128-cell-3 &lt;int&gt; | 128-cell-4 &lt;int&gt; | 128-cell-5 &lt;int&gt; | Day-4-1 &lt;int&gt; | Day-4-2 &lt;int&gt; | Day-4-3 &lt;int&gt; | Day-4-4 &lt;int&gt; | Day-4-5 &lt;int&gt; | Gene-ID &lt;fct&gt; | Chr &lt;fct&gt; | Start &lt;int&gt; | End &lt;int&gt; | Strand &lt;int&gt; | Biotype &lt;fct&gt; | Name &lt;fct&gt; | Description &lt;fct&gt; |\n",
       "|---|---|---|---|---|---|---|---|---|---|---|---|---|---|---|---|---|---|---|---|\n",
       "| 1 | 1 |   93 |   84 |  122 |  73 |   74 |  28 |  19 |  33 |  17 |  25 | ENSDARG00000000001 | 9  | 34302882 | 34312656 | -1 | protein_coding | slc35a5  | solute carrier family 35, member A5 [Source:ZFIN;Acc:ZDB-GENE-030616-55]                                                          |\n",
       "| 2 | 2 |   16 |   10 |   10 |  13 |   16 | 105 | 113 | 138 | 109 | 100 | ENSDARG00000000002 | 9  | 34279971 | 34304024 |  1 | protein_coding | ccdc80   | coiled-coil domain containing 80 [Source:ZFIN;Acc:ZDB-GENE-030616-56]                                                             |\n",
       "| 3 | 3 |  487 |  549 |  532 | 472 |  535 | 176 | 119 | 154 | 147 | 135 | ENSDARG00000000018 | 4  | 15082630 | 15104891 | -1 | protein_coding | nrf1     | nuclear respiratory factor 1 [Source:ZFIN;Acc:ZDB-GENE-001221-1]                                                                  |\n",
       "| 4 | 4 | 1048 | 1058 | 1037 | 987 | 1003 | 604 | 591 | 728 | 629 | 644 | ENSDARG00000000019 | 4  | 15012586 | 15061121 |  1 | protein_coding | ube2h    | ubiquitin-conjugating enzyme E2H (UBC8 homolog, yeast) [Source:ZFIN;Acc:ZDB-GENE-030616-67]                                       |\n",
       "| 5 | 5 |  487 |  409 |  492 | 451 |  447 | 244 | 218 | 288 | 218 | 240 | ENSDARG00000000068 | 12 | 33383475 | 33436143 |  1 | protein_coding | slc9a3r1 | solute carrier family 9, subfamily A (NHE3, cation proton antiporter 3), member 3 regulator 1 [Source:ZFIN;Acc:ZDB-GENE-031006-7] |\n",
       "| 6 | 6 |  601 |  575 |  712 | 599 |  589 | 498 | 474 | 545 | 530 | 496 | ENSDARG00000000069 | 24 | 21925116 | 21958411 | -1 | protein_coding | dap      | death-associated protein [Source:ZFIN;Acc:ZDB-GENE-000511-3]                                                                      |\n",
       "\n"
      ],
      "text/plain": [
       "    128-cell-1 128-cell-2 128-cell-3 128-cell-4 128-cell-5 Day-4-1 Day-4-2\n",
       "1 1   93         84        122        73          74        28      19    \n",
       "2 2   16         10         10        13          16       105     113    \n",
       "3 3  487        549        532       472         535       176     119    \n",
       "4 4 1048       1058       1037       987        1003       604     591    \n",
       "5 5  487        409        492       451         447       244     218    \n",
       "6 6  601        575        712       599         589       498     474    \n",
       "  Day-4-3 Day-4-4 Day-4-5 Gene-ID            Chr Start    End      Strand\n",
       "1  33      17      25     ENSDARG00000000001 9   34302882 34312656 -1    \n",
       "2 138     109     100     ENSDARG00000000002 9   34279971 34304024  1    \n",
       "3 154     147     135     ENSDARG00000000018 4   15082630 15104891 -1    \n",
       "4 728     629     644     ENSDARG00000000019 4   15012586 15061121  1    \n",
       "5 288     218     240     ENSDARG00000000068 12  33383475 33436143  1    \n",
       "6 545     530     496     ENSDARG00000000069 24  21925116 21958411 -1    \n",
       "  Biotype        Name    \n",
       "1 protein_coding slc35a5 \n",
       "2 protein_coding ccdc80  \n",
       "3 protein_coding nrf1    \n",
       "4 protein_coding ube2h   \n",
       "5 protein_coding slc9a3r1\n",
       "6 protein_coding dap     \n",
       "  Description                                                                                                                      \n",
       "1 solute carrier family 35, member A5 [Source:ZFIN;Acc:ZDB-GENE-030616-55]                                                         \n",
       "2 coiled-coil domain containing 80 [Source:ZFIN;Acc:ZDB-GENE-030616-56]                                                            \n",
       "3 nuclear respiratory factor 1 [Source:ZFIN;Acc:ZDB-GENE-001221-1]                                                                 \n",
       "4 ubiquitin-conjugating enzyme E2H (UBC8 homolog, yeast) [Source:ZFIN;Acc:ZDB-GENE-030616-67]                                      \n",
       "5 solute carrier family 9, subfamily A (NHE3, cation proton antiporter 3), member 3 regulator 1 [Source:ZFIN;Acc:ZDB-GENE-031006-7]\n",
       "6 death-associated protein [Source:ZFIN;Acc:ZDB-GENE-000511-3]                                                                     "
      ]
     },
     "metadata": {},
     "output_type": "display_data"
    }
   ],
   "source": [
    "head(counts_matrix)"
   ]
  },
  {
   "cell_type": "markdown",
   "metadata": {},
   "source": [
    "## Read in `DESeq2` count data object\n",
    "We set out design to be looking for fold changes in differential expression that are related to the name of the stage (`stageName`), since that identifies the major thing that is different between samples.\n",
    "\n",
    "**Note**: if we did not have this count matrix already generated for us, we would use `tximport` directly with the `Salmon` data as a means to read in the quantification files."
   ]
  },
  {
   "cell_type": "markdown",
   "metadata": {},
   "source": [
    "Before we do this, we should check that the column names of what we're reading in match the rows of our metadata."
   ]
  },
  {
   "cell_type": "code",
   "execution_count": 30,
   "metadata": {},
   "outputs": [],
   "source": [
    "colnames_todeseq = colnames(counts_matrix %>% dplyr::select(starts_with(\"128\") | \n",
    "                                                            starts_with(\"Day\"))) # the non-metadata columns!\n",
    "rownames_todeseq = as.character(metadata_matrix$sampleName)"
   ]
  },
  {
   "cell_type": "code",
   "execution_count": 33,
   "metadata": {},
   "outputs": [
    {
     "data": {
      "text/html": [
       "<style>\n",
       ".list-inline {list-style: none; margin:0; padding: 0}\n",
       ".list-inline>li {display: inline-block}\n",
       ".list-inline>li:not(:last-child)::after {content: \"\\00b7\"; padding: 0 .5ex}\n",
       "</style>\n",
       "<ol class=list-inline><li>TRUE</li><li>TRUE</li><li>TRUE</li><li>TRUE</li><li>TRUE</li><li>TRUE</li><li>TRUE</li><li>TRUE</li><li>TRUE</li><li>TRUE</li></ol>\n"
      ],
      "text/latex": [
       "\\begin{enumerate*}\n",
       "\\item TRUE\n",
       "\\item TRUE\n",
       "\\item TRUE\n",
       "\\item TRUE\n",
       "\\item TRUE\n",
       "\\item TRUE\n",
       "\\item TRUE\n",
       "\\item TRUE\n",
       "\\item TRUE\n",
       "\\item TRUE\n",
       "\\end{enumerate*}\n"
      ],
      "text/markdown": [
       "1. TRUE\n",
       "2. TRUE\n",
       "3. TRUE\n",
       "4. TRUE\n",
       "5. TRUE\n",
       "6. TRUE\n",
       "7. TRUE\n",
       "8. TRUE\n",
       "9. TRUE\n",
       "10. TRUE\n",
       "\n",
       "\n"
      ],
      "text/plain": [
       " [1] TRUE TRUE TRUE TRUE TRUE TRUE TRUE TRUE TRUE TRUE"
      ]
     },
     "metadata": {},
     "output_type": "display_data"
    }
   ],
   "source": [
    "colnames_todeseq == rownames_todeseq"
   ]
  },
  {
   "cell_type": "markdown",
   "metadata": {},
   "source": [
    "So we're good to go and can keep getting things set up."
   ]
  },
  {
   "cell_type": "code",
   "execution_count": 26,
   "metadata": {},
   "outputs": [
    {
     "name": "stderr",
     "output_type": "stream",
     "text": [
      "  Note: levels of factors in the design contain characters other than\n",
      "  letters, numbers, '_' and '.'. It is recommended (but not required) to use\n",
      "  only letters, numbers, and delimiters '_' or '.', as these are safe characters\n",
      "  for column names in R. [This is a message, not an warning or error]\n",
      "\n"
     ]
    }
   ],
   "source": [
    "deseq_larval <- DESeqDataSetFromMatrix(countData = counts_matrix %>% dplyr::select(starts_with(\"128\") | \n",
    "                                                                                   starts_with(\"Day\")), \n",
    "                                       colData = metadata_matrix, design = ~stageName)"
   ]
  },
  {
   "cell_type": "markdown",
   "metadata": {},
   "source": [
    "Ignore the warning about the column names. Now let's inspect the `DESeq2` object that was created."
   ]
  },
  {
   "cell_type": "code",
   "execution_count": 28,
   "metadata": {},
   "outputs": [
    {
     "data": {
      "text/plain": [
       "class: DESeqDataSet \n",
       "dim: 32110 10 \n",
       "metadata(1): version\n",
       "assays(1): counts\n",
       "rownames: NULL\n",
       "rowData names(0):\n",
       "colnames(10): 128-cell-1 128-cell-2 ... Day-4-4 Day-4-5\n",
       "colData names(8): sample public_name ... sampleName sequencing"
      ]
     },
     "metadata": {},
     "output_type": "display_data"
    }
   ],
   "source": [
    "deseq_larval"
   ]
  },
  {
   "cell_type": "code",
   "execution_count": 29,
   "metadata": {
    "scrolled": true
   },
   "outputs": [
    {
     "data": {
      "text/html": [
       "<table class=\"dataframe\">\n",
       "<caption>A matrix: 32110 × 10 of type int</caption>\n",
       "<thead>\n",
       "\t<tr><th scope=col>128-cell-1</th><th scope=col>128-cell-2</th><th scope=col>128-cell-3</th><th scope=col>128-cell-4</th><th scope=col>128-cell-5</th><th scope=col>Day-4-1</th><th scope=col>Day-4-2</th><th scope=col>Day-4-3</th><th scope=col>Day-4-4</th><th scope=col>Day-4-5</th></tr>\n",
       "</thead>\n",
       "<tbody>\n",
       "\t<tr><td>  93</td><td>  84</td><td> 122</td><td>  73</td><td>  74</td><td> 28</td><td> 19</td><td> 33</td><td> 17</td><td> 25</td></tr>\n",
       "\t<tr><td>  16</td><td>  10</td><td>  10</td><td>  13</td><td>  16</td><td>105</td><td>113</td><td>138</td><td>109</td><td>100</td></tr>\n",
       "\t<tr><td> 487</td><td> 549</td><td> 532</td><td> 472</td><td> 535</td><td>176</td><td>119</td><td>154</td><td>147</td><td>135</td></tr>\n",
       "\t<tr><td>1048</td><td>1058</td><td>1037</td><td> 987</td><td>1003</td><td>604</td><td>591</td><td>728</td><td>629</td><td>644</td></tr>\n",
       "\t<tr><td> 487</td><td> 409</td><td> 492</td><td> 451</td><td> 447</td><td>244</td><td>218</td><td>288</td><td>218</td><td>240</td></tr>\n",
       "\t<tr><td> 601</td><td> 575</td><td> 712</td><td> 599</td><td> 589</td><td>498</td><td>474</td><td>545</td><td>530</td><td>496</td></tr>\n",
       "\t<tr><td> 293</td><td> 286</td><td> 326</td><td> 250</td><td> 253</td><td>227</td><td>244</td><td>265</td><td>270</td><td>227</td></tr>\n",
       "\t<tr><td> 735</td><td> 632</td><td> 750</td><td> 555</td><td> 546</td><td>705</td><td>626</td><td>742</td><td>677</td><td>662</td></tr>\n",
       "\t<tr><td>  70</td><td>  63</td><td>  65</td><td>  65</td><td>  64</td><td> 27</td><td> 31</td><td> 27</td><td> 26</td><td> 32</td></tr>\n",
       "\t<tr><td> 178</td><td> 167</td><td> 189</td><td> 152</td><td> 135</td><td> 31</td><td> 27</td><td> 38</td><td> 30</td><td> 29</td></tr>\n",
       "\t<tr><td>  13</td><td>   4</td><td>   3</td><td>  11</td><td>   6</td><td> 46</td><td> 84</td><td> 79</td><td> 72</td><td> 70</td></tr>\n",
       "\t<tr><td>  51</td><td>  39</td><td>  51</td><td>  52</td><td>  39</td><td> 41</td><td> 32</td><td> 53</td><td> 39</td><td> 42</td></tr>\n",
       "\t<tr><td> 743</td><td> 681</td><td> 837</td><td> 653</td><td> 664</td><td>152</td><td>136</td><td>166</td><td>154</td><td>149</td></tr>\n",
       "\t<tr><td> 227</td><td> 217</td><td> 223</td><td> 220</td><td> 198</td><td>297</td><td>264</td><td>308</td><td>292</td><td>268</td></tr>\n",
       "\t<tr><td>   1</td><td>   3</td><td>   5</td><td>   4</td><td>   2</td><td>592</td><td>467</td><td>678</td><td>591</td><td>638</td></tr>\n",
       "\t<tr><td>  91</td><td>  68</td><td>  94</td><td>  80</td><td>  71</td><td>134</td><td>111</td><td>128</td><td> 96</td><td>118</td></tr>\n",
       "\t<tr><td>   4</td><td>   4</td><td>   4</td><td>   3</td><td>   5</td><td>507</td><td>467</td><td>532</td><td>503</td><td>486</td></tr>\n",
       "\t<tr><td> 342</td><td> 294</td><td> 377</td><td> 293</td><td> 309</td><td>144</td><td>136</td><td>181</td><td>132</td><td>162</td></tr>\n",
       "\t<tr><td>   0</td><td>   0</td><td>   1</td><td>   0</td><td>   0</td><td>  5</td><td>  0</td><td>  0</td><td>  0</td><td>  3</td></tr>\n",
       "\t<tr><td>   0</td><td>   1</td><td>   2</td><td>   0</td><td>   0</td><td> 36</td><td> 12</td><td> 46</td><td> 35</td><td> 24</td></tr>\n",
       "\t<tr><td>   9</td><td>   7</td><td>   4</td><td>   6</td><td>   5</td><td>255</td><td>187</td><td>285</td><td>253</td><td>253</td></tr>\n",
       "\t<tr><td>   1</td><td>   0</td><td>   0</td><td>   1</td><td>   0</td><td> 94</td><td> 90</td><td>102</td><td> 89</td><td>104</td></tr>\n",
       "\t<tr><td>1454</td><td>1237</td><td>1538</td><td>1302</td><td>1211</td><td>361</td><td>345</td><td>446</td><td>398</td><td>371</td></tr>\n",
       "\t<tr><td> 137</td><td> 114</td><td> 167</td><td> 138</td><td> 128</td><td> 27</td><td> 31</td><td> 31</td><td> 25</td><td> 21</td></tr>\n",
       "\t<tr><td> 417</td><td> 445</td><td> 529</td><td> 406</td><td> 389</td><td> 37</td><td> 53</td><td> 60</td><td> 43</td><td> 54</td></tr>\n",
       "\t<tr><td>   0</td><td>   0</td><td>   0</td><td>   0</td><td>   0</td><td>  1</td><td>  0</td><td>  0</td><td>  0</td><td>  2</td></tr>\n",
       "\t<tr><td>  40</td><td>  35</td><td>  42</td><td>  32</td><td>  39</td><td> 64</td><td> 69</td><td> 75</td><td> 67</td><td> 66</td></tr>\n",
       "\t<tr><td>   0</td><td>   0</td><td>   0</td><td>   0</td><td>   0</td><td>  3</td><td>  1</td><td>  4</td><td>  1</td><td>  0</td></tr>\n",
       "\t<tr><td> 289</td><td> 238</td><td> 278</td><td> 186</td><td> 213</td><td> 41</td><td> 16</td><td> 44</td><td> 21</td><td> 25</td></tr>\n",
       "\t<tr><td> 297</td><td> 247</td><td> 329</td><td> 350</td><td> 308</td><td>138</td><td>111</td><td>144</td><td>122</td><td>122</td></tr>\n",
       "\t<tr><td>⋮</td><td>⋮</td><td>⋮</td><td>⋮</td><td>⋮</td><td>⋮</td><td>⋮</td><td>⋮</td><td>⋮</td><td>⋮</td></tr>\n",
       "\t<tr><td>      0</td><td>     0</td><td>     0</td><td>      0</td><td>     0</td><td>      0</td><td>      0</td><td>      1</td><td>      1</td><td>      0</td></tr>\n",
       "\t<tr><td>      0</td><td>     0</td><td>     0</td><td>      0</td><td>     0</td><td>      0</td><td>      0</td><td>      2</td><td>      1</td><td>      0</td></tr>\n",
       "\t<tr><td>      0</td><td>     0</td><td>     0</td><td>      0</td><td>     0</td><td>      3</td><td>      0</td><td>      2</td><td>      0</td><td>      0</td></tr>\n",
       "\t<tr><td>     21</td><td>     8</td><td>    10</td><td>     21</td><td>     9</td><td>     67</td><td>     46</td><td>     44</td><td>     43</td><td>     57</td></tr>\n",
       "\t<tr><td>      3</td><td>     1</td><td>     2</td><td>      2</td><td>     3</td><td>    210</td><td>    167</td><td>    264</td><td>    213</td><td>    219</td></tr>\n",
       "\t<tr><td>      0</td><td>     0</td><td>     0</td><td>      0</td><td>     0</td><td>      5</td><td>      6</td><td>      6</td><td>      3</td><td>      1</td></tr>\n",
       "\t<tr><td>      0</td><td>     0</td><td>     0</td><td>      0</td><td>     0</td><td>      0</td><td>      0</td><td>      0</td><td>      1</td><td>      1</td></tr>\n",
       "\t<tr><td>      0</td><td>     0</td><td>     0</td><td>      0</td><td>     0</td><td>      1</td><td>      0</td><td>      0</td><td>      0</td><td>      0</td></tr>\n",
       "\t<tr><td>      0</td><td>     0</td><td>     0</td><td>      0</td><td>     0</td><td>      1</td><td>      0</td><td>      0</td><td>      0</td><td>      0</td></tr>\n",
       "\t<tr><td>      0</td><td>     0</td><td>     0</td><td>      0</td><td>     0</td><td>      1</td><td>      0</td><td>      0</td><td>      0</td><td>      0</td></tr>\n",
       "\t<tr><td>      0</td><td>     0</td><td>     0</td><td>      0</td><td>     0</td><td>      0</td><td>      0</td><td>      0</td><td>      0</td><td>      0</td></tr>\n",
       "\t<tr><td>      0</td><td>     0</td><td>     0</td><td>      0</td><td>     0</td><td>      0</td><td>      0</td><td>      0</td><td>      0</td><td>      0</td></tr>\n",
       "\t<tr><td>     51</td><td>    52</td><td>    65</td><td>     50</td><td>    64</td><td>      0</td><td>      0</td><td>      0</td><td>      0</td><td>      0</td></tr>\n",
       "\t<tr><td>      0</td><td>     0</td><td>     0</td><td>      0</td><td>     0</td><td>      0</td><td>      0</td><td>      0</td><td>      1</td><td>      1</td></tr>\n",
       "\t<tr><td>      0</td><td>     0</td><td>     0</td><td>      0</td><td>     0</td><td>      0</td><td>      0</td><td>      0</td><td>      0</td><td>      0</td></tr>\n",
       "\t<tr><td>      0</td><td>     0</td><td>     0</td><td>      0</td><td>     0</td><td>      0</td><td>      0</td><td>      0</td><td>      0</td><td>      0</td></tr>\n",
       "\t<tr><td>    183</td><td>   173</td><td>   189</td><td>    158</td><td>   156</td><td>    198</td><td>    175</td><td>    210</td><td>    175</td><td>    196</td></tr>\n",
       "\t<tr><td>      0</td><td>     0</td><td>     0</td><td>      0</td><td>     0</td><td>      0</td><td>      0</td><td>      0</td><td>      0</td><td>      0</td></tr>\n",
       "\t<tr><td>      0</td><td>     0</td><td>     0</td><td>      0</td><td>     0</td><td>      0</td><td>      0</td><td>      0</td><td>      0</td><td>      0</td></tr>\n",
       "\t<tr><td>      0</td><td>     0</td><td>     0</td><td>      0</td><td>     0</td><td>      0</td><td>      0</td><td>      0</td><td>      0</td><td>      0</td></tr>\n",
       "\t<tr><td>      1</td><td>     1</td><td>     5</td><td>      4</td><td>     7</td><td>      5</td><td>      3</td><td>      3</td><td>      4</td><td>      5</td></tr>\n",
       "\t<tr><td>      7</td><td>    13</td><td>    17</td><td>     14</td><td>    12</td><td>      0</td><td>      0</td><td>      0</td><td>      0</td><td>      1</td></tr>\n",
       "\t<tr><td>      0</td><td>     0</td><td>     0</td><td>      0</td><td>     0</td><td>      1</td><td>      1</td><td>      1</td><td>      5</td><td>      7</td></tr>\n",
       "\t<tr><td>      0</td><td>     0</td><td>     0</td><td>      0</td><td>     0</td><td>      0</td><td>      0</td><td>      1</td><td>      0</td><td>      0</td></tr>\n",
       "\t<tr><td>      0</td><td>     0</td><td>     0</td><td>      0</td><td>     0</td><td>      0</td><td>      0</td><td>      1</td><td>      2</td><td>      0</td></tr>\n",
       "\t<tr><td> 962770</td><td>757917</td><td>904799</td><td>1159104</td><td>720100</td><td> 934181</td><td> 853885</td><td>1061382</td><td> 936543</td><td> 910641</td></tr>\n",
       "\t<tr><td>  34646</td><td> 31368</td><td> 37288</td><td>  31350</td><td> 32850</td><td>  70212</td><td>  62968</td><td>  78881</td><td>  68141</td><td>  69369</td></tr>\n",
       "\t<tr><td>      0</td><td>     0</td><td>     0</td><td>      0</td><td>     0</td><td>      0</td><td>      0</td><td>      0</td><td>      0</td><td>      0</td></tr>\n",
       "\t<tr><td>      0</td><td>     0</td><td>     0</td><td>      0</td><td>     0</td><td>      0</td><td>      0</td><td>      0</td><td>      0</td><td>      0</td></tr>\n",
       "\t<tr><td>1124697</td><td>728459</td><td>969819</td><td>1176504</td><td>767583</td><td>1697587</td><td>1575862</td><td>1974491</td><td>1635102</td><td>1650628</td></tr>\n",
       "</tbody>\n",
       "</table>\n"
      ],
      "text/latex": [
       "A matrix: 32110 × 10 of type int\n",
       "\\begin{tabular}{llllllllll}\n",
       " 128-cell-1 & 128-cell-2 & 128-cell-3 & 128-cell-4 & 128-cell-5 & Day-4-1 & Day-4-2 & Day-4-3 & Day-4-4 & Day-4-5\\\\\n",
       "\\hline\n",
       "\t   93 &   84 &  122 &   73 &   74 &  28 &  19 &  33 &  17 &  25\\\\\n",
       "\t   16 &   10 &   10 &   13 &   16 & 105 & 113 & 138 & 109 & 100\\\\\n",
       "\t  487 &  549 &  532 &  472 &  535 & 176 & 119 & 154 & 147 & 135\\\\\n",
       "\t 1048 & 1058 & 1037 &  987 & 1003 & 604 & 591 & 728 & 629 & 644\\\\\n",
       "\t  487 &  409 &  492 &  451 &  447 & 244 & 218 & 288 & 218 & 240\\\\\n",
       "\t  601 &  575 &  712 &  599 &  589 & 498 & 474 & 545 & 530 & 496\\\\\n",
       "\t  293 &  286 &  326 &  250 &  253 & 227 & 244 & 265 & 270 & 227\\\\\n",
       "\t  735 &  632 &  750 &  555 &  546 & 705 & 626 & 742 & 677 & 662\\\\\n",
       "\t   70 &   63 &   65 &   65 &   64 &  27 &  31 &  27 &  26 &  32\\\\\n",
       "\t  178 &  167 &  189 &  152 &  135 &  31 &  27 &  38 &  30 &  29\\\\\n",
       "\t   13 &    4 &    3 &   11 &    6 &  46 &  84 &  79 &  72 &  70\\\\\n",
       "\t   51 &   39 &   51 &   52 &   39 &  41 &  32 &  53 &  39 &  42\\\\\n",
       "\t  743 &  681 &  837 &  653 &  664 & 152 & 136 & 166 & 154 & 149\\\\\n",
       "\t  227 &  217 &  223 &  220 &  198 & 297 & 264 & 308 & 292 & 268\\\\\n",
       "\t    1 &    3 &    5 &    4 &    2 & 592 & 467 & 678 & 591 & 638\\\\\n",
       "\t   91 &   68 &   94 &   80 &   71 & 134 & 111 & 128 &  96 & 118\\\\\n",
       "\t    4 &    4 &    4 &    3 &    5 & 507 & 467 & 532 & 503 & 486\\\\\n",
       "\t  342 &  294 &  377 &  293 &  309 & 144 & 136 & 181 & 132 & 162\\\\\n",
       "\t    0 &    0 &    1 &    0 &    0 &   5 &   0 &   0 &   0 &   3\\\\\n",
       "\t    0 &    1 &    2 &    0 &    0 &  36 &  12 &  46 &  35 &  24\\\\\n",
       "\t    9 &    7 &    4 &    6 &    5 & 255 & 187 & 285 & 253 & 253\\\\\n",
       "\t    1 &    0 &    0 &    1 &    0 &  94 &  90 & 102 &  89 & 104\\\\\n",
       "\t 1454 & 1237 & 1538 & 1302 & 1211 & 361 & 345 & 446 & 398 & 371\\\\\n",
       "\t  137 &  114 &  167 &  138 &  128 &  27 &  31 &  31 &  25 &  21\\\\\n",
       "\t  417 &  445 &  529 &  406 &  389 &  37 &  53 &  60 &  43 &  54\\\\\n",
       "\t    0 &    0 &    0 &    0 &    0 &   1 &   0 &   0 &   0 &   2\\\\\n",
       "\t   40 &   35 &   42 &   32 &   39 &  64 &  69 &  75 &  67 &  66\\\\\n",
       "\t    0 &    0 &    0 &    0 &    0 &   3 &   1 &   4 &   1 &   0\\\\\n",
       "\t  289 &  238 &  278 &  186 &  213 &  41 &  16 &  44 &  21 &  25\\\\\n",
       "\t  297 &  247 &  329 &  350 &  308 & 138 & 111 & 144 & 122 & 122\\\\\n",
       "\t ⋮ & ⋮ & ⋮ & ⋮ & ⋮ & ⋮ & ⋮ & ⋮ & ⋮ & ⋮\\\\\n",
       "\t       0 &      0 &      0 &       0 &      0 &       0 &       0 &       1 &       1 &       0\\\\\n",
       "\t       0 &      0 &      0 &       0 &      0 &       0 &       0 &       2 &       1 &       0\\\\\n",
       "\t       0 &      0 &      0 &       0 &      0 &       3 &       0 &       2 &       0 &       0\\\\\n",
       "\t      21 &      8 &     10 &      21 &      9 &      67 &      46 &      44 &      43 &      57\\\\\n",
       "\t       3 &      1 &      2 &       2 &      3 &     210 &     167 &     264 &     213 &     219\\\\\n",
       "\t       0 &      0 &      0 &       0 &      0 &       5 &       6 &       6 &       3 &       1\\\\\n",
       "\t       0 &      0 &      0 &       0 &      0 &       0 &       0 &       0 &       1 &       1\\\\\n",
       "\t       0 &      0 &      0 &       0 &      0 &       1 &       0 &       0 &       0 &       0\\\\\n",
       "\t       0 &      0 &      0 &       0 &      0 &       1 &       0 &       0 &       0 &       0\\\\\n",
       "\t       0 &      0 &      0 &       0 &      0 &       1 &       0 &       0 &       0 &       0\\\\\n",
       "\t       0 &      0 &      0 &       0 &      0 &       0 &       0 &       0 &       0 &       0\\\\\n",
       "\t       0 &      0 &      0 &       0 &      0 &       0 &       0 &       0 &       0 &       0\\\\\n",
       "\t      51 &     52 &     65 &      50 &     64 &       0 &       0 &       0 &       0 &       0\\\\\n",
       "\t       0 &      0 &      0 &       0 &      0 &       0 &       0 &       0 &       1 &       1\\\\\n",
       "\t       0 &      0 &      0 &       0 &      0 &       0 &       0 &       0 &       0 &       0\\\\\n",
       "\t       0 &      0 &      0 &       0 &      0 &       0 &       0 &       0 &       0 &       0\\\\\n",
       "\t     183 &    173 &    189 &     158 &    156 &     198 &     175 &     210 &     175 &     196\\\\\n",
       "\t       0 &      0 &      0 &       0 &      0 &       0 &       0 &       0 &       0 &       0\\\\\n",
       "\t       0 &      0 &      0 &       0 &      0 &       0 &       0 &       0 &       0 &       0\\\\\n",
       "\t       0 &      0 &      0 &       0 &      0 &       0 &       0 &       0 &       0 &       0\\\\\n",
       "\t       1 &      1 &      5 &       4 &      7 &       5 &       3 &       3 &       4 &       5\\\\\n",
       "\t       7 &     13 &     17 &      14 &     12 &       0 &       0 &       0 &       0 &       1\\\\\n",
       "\t       0 &      0 &      0 &       0 &      0 &       1 &       1 &       1 &       5 &       7\\\\\n",
       "\t       0 &      0 &      0 &       0 &      0 &       0 &       0 &       1 &       0 &       0\\\\\n",
       "\t       0 &      0 &      0 &       0 &      0 &       0 &       0 &       1 &       2 &       0\\\\\n",
       "\t  962770 & 757917 & 904799 & 1159104 & 720100 &  934181 &  853885 & 1061382 &  936543 &  910641\\\\\n",
       "\t   34646 &  31368 &  37288 &   31350 &  32850 &   70212 &   62968 &   78881 &   68141 &   69369\\\\\n",
       "\t       0 &      0 &      0 &       0 &      0 &       0 &       0 &       0 &       0 &       0\\\\\n",
       "\t       0 &      0 &      0 &       0 &      0 &       0 &       0 &       0 &       0 &       0\\\\\n",
       "\t 1124697 & 728459 & 969819 & 1176504 & 767583 & 1697587 & 1575862 & 1974491 & 1635102 & 1650628\\\\\n",
       "\\end{tabular}\n"
      ],
      "text/markdown": [
       "\n",
       "A matrix: 32110 × 10 of type int\n",
       "\n",
       "| 128-cell-1 | 128-cell-2 | 128-cell-3 | 128-cell-4 | 128-cell-5 | Day-4-1 | Day-4-2 | Day-4-3 | Day-4-4 | Day-4-5 |\n",
       "|---|---|---|---|---|---|---|---|---|---|\n",
       "|   93 |   84 |  122 |   73 |   74 |  28 |  19 |  33 |  17 |  25 |\n",
       "|   16 |   10 |   10 |   13 |   16 | 105 | 113 | 138 | 109 | 100 |\n",
       "|  487 |  549 |  532 |  472 |  535 | 176 | 119 | 154 | 147 | 135 |\n",
       "| 1048 | 1058 | 1037 |  987 | 1003 | 604 | 591 | 728 | 629 | 644 |\n",
       "|  487 |  409 |  492 |  451 |  447 | 244 | 218 | 288 | 218 | 240 |\n",
       "|  601 |  575 |  712 |  599 |  589 | 498 | 474 | 545 | 530 | 496 |\n",
       "|  293 |  286 |  326 |  250 |  253 | 227 | 244 | 265 | 270 | 227 |\n",
       "|  735 |  632 |  750 |  555 |  546 | 705 | 626 | 742 | 677 | 662 |\n",
       "|   70 |   63 |   65 |   65 |   64 |  27 |  31 |  27 |  26 |  32 |\n",
       "|  178 |  167 |  189 |  152 |  135 |  31 |  27 |  38 |  30 |  29 |\n",
       "|   13 |    4 |    3 |   11 |    6 |  46 |  84 |  79 |  72 |  70 |\n",
       "|   51 |   39 |   51 |   52 |   39 |  41 |  32 |  53 |  39 |  42 |\n",
       "|  743 |  681 |  837 |  653 |  664 | 152 | 136 | 166 | 154 | 149 |\n",
       "|  227 |  217 |  223 |  220 |  198 | 297 | 264 | 308 | 292 | 268 |\n",
       "|    1 |    3 |    5 |    4 |    2 | 592 | 467 | 678 | 591 | 638 |\n",
       "|   91 |   68 |   94 |   80 |   71 | 134 | 111 | 128 |  96 | 118 |\n",
       "|    4 |    4 |    4 |    3 |    5 | 507 | 467 | 532 | 503 | 486 |\n",
       "|  342 |  294 |  377 |  293 |  309 | 144 | 136 | 181 | 132 | 162 |\n",
       "|    0 |    0 |    1 |    0 |    0 |   5 |   0 |   0 |   0 |   3 |\n",
       "|    0 |    1 |    2 |    0 |    0 |  36 |  12 |  46 |  35 |  24 |\n",
       "|    9 |    7 |    4 |    6 |    5 | 255 | 187 | 285 | 253 | 253 |\n",
       "|    1 |    0 |    0 |    1 |    0 |  94 |  90 | 102 |  89 | 104 |\n",
       "| 1454 | 1237 | 1538 | 1302 | 1211 | 361 | 345 | 446 | 398 | 371 |\n",
       "|  137 |  114 |  167 |  138 |  128 |  27 |  31 |  31 |  25 |  21 |\n",
       "|  417 |  445 |  529 |  406 |  389 |  37 |  53 |  60 |  43 |  54 |\n",
       "|    0 |    0 |    0 |    0 |    0 |   1 |   0 |   0 |   0 |   2 |\n",
       "|   40 |   35 |   42 |   32 |   39 |  64 |  69 |  75 |  67 |  66 |\n",
       "|    0 |    0 |    0 |    0 |    0 |   3 |   1 |   4 |   1 |   0 |\n",
       "|  289 |  238 |  278 |  186 |  213 |  41 |  16 |  44 |  21 |  25 |\n",
       "|  297 |  247 |  329 |  350 |  308 | 138 | 111 | 144 | 122 | 122 |\n",
       "| ⋮ | ⋮ | ⋮ | ⋮ | ⋮ | ⋮ | ⋮ | ⋮ | ⋮ | ⋮ |\n",
       "|       0 |      0 |      0 |       0 |      0 |       0 |       0 |       1 |       1 |       0 |\n",
       "|       0 |      0 |      0 |       0 |      0 |       0 |       0 |       2 |       1 |       0 |\n",
       "|       0 |      0 |      0 |       0 |      0 |       3 |       0 |       2 |       0 |       0 |\n",
       "|      21 |      8 |     10 |      21 |      9 |      67 |      46 |      44 |      43 |      57 |\n",
       "|       3 |      1 |      2 |       2 |      3 |     210 |     167 |     264 |     213 |     219 |\n",
       "|       0 |      0 |      0 |       0 |      0 |       5 |       6 |       6 |       3 |       1 |\n",
       "|       0 |      0 |      0 |       0 |      0 |       0 |       0 |       0 |       1 |       1 |\n",
       "|       0 |      0 |      0 |       0 |      0 |       1 |       0 |       0 |       0 |       0 |\n",
       "|       0 |      0 |      0 |       0 |      0 |       1 |       0 |       0 |       0 |       0 |\n",
       "|       0 |      0 |      0 |       0 |      0 |       1 |       0 |       0 |       0 |       0 |\n",
       "|       0 |      0 |      0 |       0 |      0 |       0 |       0 |       0 |       0 |       0 |\n",
       "|       0 |      0 |      0 |       0 |      0 |       0 |       0 |       0 |       0 |       0 |\n",
       "|      51 |     52 |     65 |      50 |     64 |       0 |       0 |       0 |       0 |       0 |\n",
       "|       0 |      0 |      0 |       0 |      0 |       0 |       0 |       0 |       1 |       1 |\n",
       "|       0 |      0 |      0 |       0 |      0 |       0 |       0 |       0 |       0 |       0 |\n",
       "|       0 |      0 |      0 |       0 |      0 |       0 |       0 |       0 |       0 |       0 |\n",
       "|     183 |    173 |    189 |     158 |    156 |     198 |     175 |     210 |     175 |     196 |\n",
       "|       0 |      0 |      0 |       0 |      0 |       0 |       0 |       0 |       0 |       0 |\n",
       "|       0 |      0 |      0 |       0 |      0 |       0 |       0 |       0 |       0 |       0 |\n",
       "|       0 |      0 |      0 |       0 |      0 |       0 |       0 |       0 |       0 |       0 |\n",
       "|       1 |      1 |      5 |       4 |      7 |       5 |       3 |       3 |       4 |       5 |\n",
       "|       7 |     13 |     17 |      14 |     12 |       0 |       0 |       0 |       0 |       1 |\n",
       "|       0 |      0 |      0 |       0 |      0 |       1 |       1 |       1 |       5 |       7 |\n",
       "|       0 |      0 |      0 |       0 |      0 |       0 |       0 |       1 |       0 |       0 |\n",
       "|       0 |      0 |      0 |       0 |      0 |       0 |       0 |       1 |       2 |       0 |\n",
       "|  962770 | 757917 | 904799 | 1159104 | 720100 |  934181 |  853885 | 1061382 |  936543 |  910641 |\n",
       "|   34646 |  31368 |  37288 |   31350 |  32850 |   70212 |   62968 |   78881 |   68141 |   69369 |\n",
       "|       0 |      0 |      0 |       0 |      0 |       0 |       0 |       0 |       0 |       0 |\n",
       "|       0 |      0 |      0 |       0 |      0 |       0 |       0 |       0 |       0 |       0 |\n",
       "| 1124697 | 728459 | 969819 | 1176504 | 767583 | 1697587 | 1575862 | 1974491 | 1635102 | 1650628 |\n",
       "\n"
      ],
      "text/plain": [
       "      128-cell-1 128-cell-2 128-cell-3 128-cell-4 128-cell-5 Day-4-1 Day-4-2\n",
       " [1,]   93         84        122         73         74        28      19    \n",
       " [2,]   16         10         10         13         16       105     113    \n",
       " [3,]  487        549        532        472        535       176     119    \n",
       " [4,] 1048       1058       1037        987       1003       604     591    \n",
       " [5,]  487        409        492        451        447       244     218    \n",
       " [6,]  601        575        712        599        589       498     474    \n",
       " [7,]  293        286        326        250        253       227     244    \n",
       " [8,]  735        632        750        555        546       705     626    \n",
       " [9,]   70         63         65         65         64        27      31    \n",
       "[10,]  178        167        189        152        135        31      27    \n",
       "[11,]   13          4          3         11          6        46      84    \n",
       "[12,]   51         39         51         52         39        41      32    \n",
       "[13,]  743        681        837        653        664       152     136    \n",
       "[14,]  227        217        223        220        198       297     264    \n",
       "[15,]    1          3          5          4          2       592     467    \n",
       "[16,]   91         68         94         80         71       134     111    \n",
       "[17,]    4          4          4          3          5       507     467    \n",
       "[18,]  342        294        377        293        309       144     136    \n",
       "[19,]    0          0          1          0          0         5       0    \n",
       "[20,]    0          1          2          0          0        36      12    \n",
       "[21,]    9          7          4          6          5       255     187    \n",
       "[22,]    1          0          0          1          0        94      90    \n",
       "[23,] 1454       1237       1538       1302       1211       361     345    \n",
       "[24,]  137        114        167        138        128        27      31    \n",
       "[25,]  417        445        529        406        389        37      53    \n",
       "[26,]    0          0          0          0          0         1       0    \n",
       "[27,]   40         35         42         32         39        64      69    \n",
       "[28,]    0          0          0          0          0         3       1    \n",
       "[29,]  289        238        278        186        213        41      16    \n",
       "[30,]  297        247        329        350        308       138     111    \n",
       "[31,] ⋮          ⋮          ⋮          ⋮          ⋮          ⋮       ⋮      \n",
       "[32,]       0         0          0           0         0           0       0\n",
       "[33,]       0         0          0           0         0           0       0\n",
       "[34,]       0         0          0           0         0           3       0\n",
       "[35,]      21         8         10          21         9          67      46\n",
       "[36,]       3         1          2           2         3         210     167\n",
       "[37,]       0         0          0           0         0           5       6\n",
       "[38,]       0         0          0           0         0           0       0\n",
       "[39,]       0         0          0           0         0           1       0\n",
       "[40,]       0         0          0           0         0           1       0\n",
       "[41,]       0         0          0           0         0           1       0\n",
       "[42,]       0         0          0           0         0           0       0\n",
       "[43,]       0         0          0           0         0           0       0\n",
       "[44,]      51        52         65          50        64           0       0\n",
       "[45,]       0         0          0           0         0           0       0\n",
       "[46,]       0         0          0           0         0           0       0\n",
       "[47,]       0         0          0           0         0           0       0\n",
       "[48,]     183       173        189         158       156         198     175\n",
       "[49,]       0         0          0           0         0           0       0\n",
       "[50,]       0         0          0           0         0           0       0\n",
       "[51,]       0         0          0           0         0           0       0\n",
       "[52,]       1         1          5           4         7           5       3\n",
       "[53,]       7        13         17          14        12           0       0\n",
       "[54,]       0         0          0           0         0           1       1\n",
       "[55,]       0         0          0           0         0           0       0\n",
       "[56,]       0         0          0           0         0           0       0\n",
       "[57,]  962770    757917     904799     1159104    720100      934181  853885\n",
       "[58,]   34646     31368      37288       31350     32850       70212   62968\n",
       "[59,]       0         0          0           0         0           0       0\n",
       "[60,]       0         0          0           0         0           0       0\n",
       "[61,] 1124697    728459     969819     1176504    767583     1697587 1575862\n",
       "      Day-4-3 Day-4-4 Day-4-5\n",
       " [1,]  33      17      25    \n",
       " [2,] 138     109     100    \n",
       " [3,] 154     147     135    \n",
       " [4,] 728     629     644    \n",
       " [5,] 288     218     240    \n",
       " [6,] 545     530     496    \n",
       " [7,] 265     270     227    \n",
       " [8,] 742     677     662    \n",
       " [9,]  27      26      32    \n",
       "[10,]  38      30      29    \n",
       "[11,]  79      72      70    \n",
       "[12,]  53      39      42    \n",
       "[13,] 166     154     149    \n",
       "[14,] 308     292     268    \n",
       "[15,] 678     591     638    \n",
       "[16,] 128      96     118    \n",
       "[17,] 532     503     486    \n",
       "[18,] 181     132     162    \n",
       "[19,]   0       0       3    \n",
       "[20,]  46      35      24    \n",
       "[21,] 285     253     253    \n",
       "[22,] 102      89     104    \n",
       "[23,] 446     398     371    \n",
       "[24,]  31      25      21    \n",
       "[25,]  60      43      54    \n",
       "[26,]   0       0       2    \n",
       "[27,]  75      67      66    \n",
       "[28,]   4       1       0    \n",
       "[29,]  44      21      25    \n",
       "[30,] 144     122     122    \n",
       "[31,] ⋮       ⋮       ⋮      \n",
       "[32,]       1       1       0\n",
       "[33,]       2       1       0\n",
       "[34,]       2       0       0\n",
       "[35,]      44      43      57\n",
       "[36,]     264     213     219\n",
       "[37,]       6       3       1\n",
       "[38,]       0       1       1\n",
       "[39,]       0       0       0\n",
       "[40,]       0       0       0\n",
       "[41,]       0       0       0\n",
       "[42,]       0       0       0\n",
       "[43,]       0       0       0\n",
       "[44,]       0       0       0\n",
       "[45,]       0       1       1\n",
       "[46,]       0       0       0\n",
       "[47,]       0       0       0\n",
       "[48,]     210     175     196\n",
       "[49,]       0       0       0\n",
       "[50,]       0       0       0\n",
       "[51,]       0       0       0\n",
       "[52,]       3       4       5\n",
       "[53,]       0       0       1\n",
       "[54,]       1       5       7\n",
       "[55,]       1       0       0\n",
       "[56,]       1       2       0\n",
       "[57,] 1061382  936543  910641\n",
       "[58,]   78881   68141   69369\n",
       "[59,]       0       0       0\n",
       "[60,]       0       0       0\n",
       "[61,] 1974491 1635102 1650628"
      ]
     },
     "metadata": {},
     "output_type": "display_data"
    }
   ],
   "source": [
    "counts(deseq_larval)"
   ]
  },
  {
   "cell_type": "markdown",
   "metadata": {},
   "source": [
    "Now we can pre-filter the `DESeq2` object based on genes that have very low counts. This makes the process less memory-intensive (we avoid wasting time on things that are very rare to begin with)."
   ]
  },
  {
   "cell_type": "code",
   "execution_count": 34,
   "metadata": {},
   "outputs": [
    {
     "name": "stdout",
     "output_type": "stream",
     "text": [
      "[1] 32110\n"
     ]
    }
   ],
   "source": [
    "print(nrow(counts(deseq_larval)))\n",
    "keep <- rowSums(counts(deseq_larval)) >= 10\n",
    "deseq_larval <- deseq_larval[keep,]"
   ]
  },
  {
   "cell_type": "code",
   "execution_count": 35,
   "metadata": {},
   "outputs": [
    {
     "name": "stdout",
     "output_type": "stream",
     "text": [
      "[1] 22215\n"
     ]
    }
   ],
   "source": [
    "print(nrow(counts(deseq_larval)))"
   ]
  },
  {
   "cell_type": "markdown",
   "metadata": {},
   "source": [
    "Take a second to consider how many genes of count < 10 that that removed from our analysis. Now we'll do the actual differential expression calculations."
   ]
  },
  {
   "cell_type": "code",
   "execution_count": 36,
   "metadata": {},
   "outputs": [
    {
     "name": "stderr",
     "output_type": "stream",
     "text": [
      "estimating size factors\n",
      "\n",
      "  Note: levels of factors in the design contain characters other than\n",
      "  letters, numbers, '_' and '.'. It is recommended (but not required) to use\n",
      "  only letters, numbers, and delimiters '_' or '.', as these are safe characters\n",
      "  for column names in R. [This is a message, not an warning or error]\n",
      "\n",
      "estimating dispersions\n",
      "\n",
      "gene-wise dispersion estimates\n",
      "\n",
      "mean-dispersion relationship\n",
      "\n",
      "  Note: levels of factors in the design contain characters other than\n",
      "  letters, numbers, '_' and '.'. It is recommended (but not required) to use\n",
      "  only letters, numbers, and delimiters '_' or '.', as these are safe characters\n",
      "  for column names in R. [This is a message, not an warning or error]\n",
      "\n",
      "final dispersion estimates\n",
      "\n",
      "  Note: levels of factors in the design contain characters other than\n",
      "  letters, numbers, '_' and '.'. It is recommended (but not required) to use\n",
      "  only letters, numbers, and delimiters '_' or '.', as these are safe characters\n",
      "  for column names in R. [This is a message, not an warning or error]\n",
      "\n",
      "fitting model and testing\n",
      "\n"
     ]
    }
   ],
   "source": [
    "deseq_larval = DESeq(deseq_larval)"
   ]
  },
  {
   "cell_type": "markdown",
   "metadata": {},
   "source": [
    "**Note** that this command does a few things all wrapped into one. All of these functions can also be performed completely separately within `DESeq2`. The steps are:\n",
    "- Estimate size factors\n",
    "- Estimate dispersion\n",
    "- Gene-wise calculation of dispersion\n",
    "- Mean dispersion relationship\n",
    "- Estimate final dispersion\n",
    "- Test model."
   ]
  },
  {
   "cell_type": "markdown",
   "metadata": {},
   "source": [
    "Now let's parse the results out of the `DESeq2` object."
   ]
  },
  {
   "cell_type": "code",
   "execution_count": 38,
   "metadata": {},
   "outputs": [
    {
     "data": {
      "text/plain": [
       "log2 fold change (MLE): stageName Day.4 vs 128.cell \n",
       "Wald test p-value: stageName Day.4 vs 128.cell \n",
       "DataFrame with 22215 rows and 6 columns\n",
       "              baseMean     log2FoldChange              lfcSE              stat\n",
       "             <numeric>          <numeric>          <numeric>         <numeric>\n",
       "1     49.3404531930116  -1.15879814195788  0.188443960676312 -6.14929837920532\n",
       "2     76.0775211714311   3.82434340492565  0.209819913838686  18.2267895118186\n",
       "3     291.339942812769  -1.11429796415691 0.0926782169763107  -12.023299546664\n",
       "4     799.888530486209 0.0189791666841157 0.0596608416532364 0.318117649000451\n",
       "5     328.322121363888 -0.215398333735862 0.0726161999297155 -2.96625730820869\n",
       "...                ...                ...                ...               ...\n",
       "22211 4.99031884604069  -4.81057231676431  0.986514175097287  -4.8763336991989\n",
       "22212 1.92734128393846   4.75070844096154   1.19957852778525  3.96031466963038\n",
       "22213 940591.142408234  0.758036238948655  0.146877413165217  5.16101300133854\n",
       "22214 56915.5028509117   1.76763180766641 0.0262779241872831  67.2667976004679\n",
       "22215 1442447.17412979   1.54066706844163   0.14830193056146  10.3887188967047\n",
       "                    pvalue                 padj\n",
       "                 <numeric>            <numeric>\n",
       "1     7.78264481484076e-10 1.19490949313489e-09\n",
       "2     3.16355799820849e-74 1.92860705077392e-73\n",
       "3     2.68049776045937e-33 8.57535393845117e-33\n",
       "4        0.750395696535543     0.76160637785714\n",
       "5      0.00301448170592904  0.00352939343824252\n",
       "...                    ...                  ...\n",
       "22211 1.08075720268599e-06 1.47747823124119e-06\n",
       "22212  7.4851065427363e-05 9.44728378199459e-05\n",
       "22213 2.45617119528381e-07 3.44316546369848e-07\n",
       "22214                    0                    0\n",
       "22215 2.79076314238777e-25 7.23923437741058e-25"
      ]
     },
     "metadata": {},
     "output_type": "display_data"
    }
   ],
   "source": [
    "results_fr <- results(deseq_larval)\n",
    "results_fr"
   ]
  },
  {
   "cell_type": "markdown",
   "metadata": {},
   "source": [
    "The above introduces us to the idea of the _log-fold change_. Here, we're comparing the change in expression of larval stage day 4 to the expression during the 128-cell blastula phase. After normalizing to the overall size of the matrix and the expression of each gene, we are interested in seeing what the comparative change is in expression between the two states, and we obtain a probability (\"p-value\") for how likely it would be to see that kind of a change in expression by chance. "
   ]
  },
  {
   "cell_type": "markdown",
   "metadata": {},
   "source": [
    "Next, we can organize our results by p-value (we want to focus on the results that are (a) significant and (b) highly significant). "
   ]
  },
  {
   "cell_type": "code",
   "execution_count": 39,
   "metadata": {},
   "outputs": [],
   "source": [
    "resOrdered <- results_fr[order(results_fr$pvalue),]"
   ]
  },
  {
   "cell_type": "markdown",
   "metadata": {},
   "source": [
    "And we can check how many of our results are significant at an alpha value of less than 0.05."
   ]
  },
  {
   "cell_type": "code",
   "execution_count": 41,
   "metadata": {},
   "outputs": [
    {
     "data": {
      "text/html": [
       "20069"
      ],
      "text/latex": [
       "20069"
      ],
      "text/markdown": [
       "20069"
      ],
      "text/plain": [
       "[1] 20069"
      ]
     },
     "metadata": {},
     "output_type": "display_data"
    }
   ],
   "source": [
    "sum(resOrdered$padj < 0.05, na.rm=TRUE)"
   ]
  },
  {
   "cell_type": "markdown",
   "metadata": {},
   "source": [
    "## Plotting TPM values from Supplemental Data outside of `DESeq2`\n",
    "\n",
    "Now that we have a `DESeq2` object, we can begin to make some comparisons of the differential expression reported by this program to the paper. In panel A below, we can see the log-normalized expression profiles of 127 genes and their TPM from the paper.\n",
    "\n",
    "\n",
    "![Differential expression info](../images/lax_30860_elife-30860-fig7-v1.tif.jpg)"
   ]
  },
  {
   "cell_type": "markdown",
   "metadata": {},
   "source": [
    "Let's first extract the log-10 normalized TPM values from their spreadsheets and plot a figure just like the one they provide. We'll just plot out the heatmap with columns for the 5 replicates of each of 2 developmental stages and with the rows showing all of the included genes genes. We're only picking out two developmental stages, rather than performing some kind of hierarchical clustering and producing a clustered heatmap the way that the authors do."
   ]
  },
  {
   "cell_type": "code",
   "execution_count": 46,
   "metadata": {},
   "outputs": [
    {
     "data": {
      "text/html": [
       "<table class=\"dataframe\">\n",
       "<caption>A data.frame: 6 × 12</caption>\n",
       "<thead>\n",
       "\t<tr><th></th><th scope=col>transcript_id</th><th scope=col>gene_id</th><th scope=col>X128.cell.1</th><th scope=col>X128.cell.2</th><th scope=col>X128.cell.3</th><th scope=col>X128.cell.4</th><th scope=col>X128.cell.5</th><th scope=col>Day.4.1</th><th scope=col>Day.4.2</th><th scope=col>Day.4.3</th><th scope=col>Day.4.4</th><th scope=col>Day.4.5</th></tr>\n",
       "\t<tr><th></th><th scope=col>&lt;fct&gt;</th><th scope=col>&lt;fct&gt;</th><th scope=col>&lt;dbl&gt;</th><th scope=col>&lt;dbl&gt;</th><th scope=col>&lt;dbl&gt;</th><th scope=col>&lt;dbl&gt;</th><th scope=col>&lt;dbl&gt;</th><th scope=col>&lt;dbl&gt;</th><th scope=col>&lt;dbl&gt;</th><th scope=col>&lt;dbl&gt;</th><th scope=col>&lt;dbl&gt;</th><th scope=col>&lt;dbl&gt;</th></tr>\n",
       "</thead>\n",
       "<tbody>\n",
       "\t<tr><th scope=row>1</th><td>ENSDART00000000042</td><td>ENSDARG00000033231</td><td>502.38914</td><td>448.1432987</td><td>484.842939</td><td>439.337449</td><td>458.4815065</td><td>   0.000000</td><td>   0.000000</td><td>   1.049548</td><td>   3.366476</td><td>   1.141335</td></tr>\n",
       "\t<tr><th scope=row>2</th><td>ENSDART00000000087</td><td>ENSDARG00000000086</td><td> 55.68503</td><td> 76.5441839</td><td> 57.040346</td><td> 57.727604</td><td> 70.6326392</td><td> 112.243875</td><td> 133.490467</td><td> 119.648516</td><td> 157.102203</td><td> 111.850817</td></tr>\n",
       "\t<tr><th scope=row>3</th><td>ENSDART00000000192</td><td>ENSDARG00000000183</td><td>134.01123</td><td>116.4518353</td><td>154.579337</td><td>103.302028</td><td>128.0216586</td><td>  78.686428</td><td>  98.297526</td><td>  73.468387</td><td>  62.840881</td><td>  92.448124</td></tr>\n",
       "\t<tr><th scope=row>4</th><td>ENSDART00000000198</td><td>ENSDARG00000000189</td><td>  0.00000</td><td>  7.1964617</td><td>  1.711210</td><td>  8.507226</td><td>  6.9371342</td><td>   0.000000</td><td>   0.000000</td><td>   0.000000</td><td>   0.000000</td><td>   0.000000</td></tr>\n",
       "\t<tr><th scope=row>5</th><td>ENSDART00000000221</td><td>ENSDARG00000036830</td><td>  1.83577</td><td>  0.6542238</td><td>  2.852017</td><td>  0.607659</td><td>  0.0000000</td><td>1319.154822</td><td>1208.695504</td><td>1303.539097</td><td>1300.581809</td><td>1427.809918</td></tr>\n",
       "\t<tr><th scope=row>6</th><td>ENSDART00000000280</td><td>ENSDARG00000076182</td><td>  0.00000</td><td>  0.0000000</td><td>  0.000000</td><td>  0.607659</td><td>  0.6306486</td><td>   9.257227</td><td>   7.281298</td><td>   9.445935</td><td>   3.366476</td><td>   3.424005</td></tr>\n",
       "</tbody>\n",
       "</table>\n"
      ],
      "text/latex": [
       "A data.frame: 6 × 12\n",
       "\\begin{tabular}{r|llllllllllll}\n",
       "  & transcript\\_id & gene\\_id & X128.cell.1 & X128.cell.2 & X128.cell.3 & X128.cell.4 & X128.cell.5 & Day.4.1 & Day.4.2 & Day.4.3 & Day.4.4 & Day.4.5\\\\\n",
       "  & <fct> & <fct> & <dbl> & <dbl> & <dbl> & <dbl> & <dbl> & <dbl> & <dbl> & <dbl> & <dbl> & <dbl>\\\\\n",
       "\\hline\n",
       "\t1 & ENSDART00000000042 & ENSDARG00000033231 & 502.38914 & 448.1432987 & 484.842939 & 439.337449 & 458.4815065 &    0.000000 &    0.000000 &    1.049548 &    3.366476 &    1.141335\\\\\n",
       "\t2 & ENSDART00000000087 & ENSDARG00000000086 &  55.68503 &  76.5441839 &  57.040346 &  57.727604 &  70.6326392 &  112.243875 &  133.490467 &  119.648516 &  157.102203 &  111.850817\\\\\n",
       "\t3 & ENSDART00000000192 & ENSDARG00000000183 & 134.01123 & 116.4518353 & 154.579337 & 103.302028 & 128.0216586 &   78.686428 &   98.297526 &   73.468387 &   62.840881 &   92.448124\\\\\n",
       "\t4 & ENSDART00000000198 & ENSDARG00000000189 &   0.00000 &   7.1964617 &   1.711210 &   8.507226 &   6.9371342 &    0.000000 &    0.000000 &    0.000000 &    0.000000 &    0.000000\\\\\n",
       "\t5 & ENSDART00000000221 & ENSDARG00000036830 &   1.83577 &   0.6542238 &   2.852017 &   0.607659 &   0.0000000 & 1319.154822 & 1208.695504 & 1303.539097 & 1300.581809 & 1427.809918\\\\\n",
       "\t6 & ENSDART00000000280 & ENSDARG00000076182 &   0.00000 &   0.0000000 &   0.000000 &   0.607659 &   0.6306486 &    9.257227 &    7.281298 &    9.445935 &    3.366476 &    3.424005\\\\\n",
       "\\end{tabular}\n"
      ],
      "text/markdown": [
       "\n",
       "A data.frame: 6 × 12\n",
       "\n",
       "| <!--/--> | transcript_id &lt;fct&gt; | gene_id &lt;fct&gt; | X128.cell.1 &lt;dbl&gt; | X128.cell.2 &lt;dbl&gt; | X128.cell.3 &lt;dbl&gt; | X128.cell.4 &lt;dbl&gt; | X128.cell.5 &lt;dbl&gt; | Day.4.1 &lt;dbl&gt; | Day.4.2 &lt;dbl&gt; | Day.4.3 &lt;dbl&gt; | Day.4.4 &lt;dbl&gt; | Day.4.5 &lt;dbl&gt; |\n",
       "|---|---|---|---|---|---|---|---|---|---|---|---|---|\n",
       "| 1 | ENSDART00000000042 | ENSDARG00000033231 | 502.38914 | 448.1432987 | 484.842939 | 439.337449 | 458.4815065 |    0.000000 |    0.000000 |    1.049548 |    3.366476 |    1.141335 |\n",
       "| 2 | ENSDART00000000087 | ENSDARG00000000086 |  55.68503 |  76.5441839 |  57.040346 |  57.727604 |  70.6326392 |  112.243875 |  133.490467 |  119.648516 |  157.102203 |  111.850817 |\n",
       "| 3 | ENSDART00000000192 | ENSDARG00000000183 | 134.01123 | 116.4518353 | 154.579337 | 103.302028 | 128.0216586 |   78.686428 |   98.297526 |   73.468387 |   62.840881 |   92.448124 |\n",
       "| 4 | ENSDART00000000198 | ENSDARG00000000189 |   0.00000 |   7.1964617 |   1.711210 |   8.507226 |   6.9371342 |    0.000000 |    0.000000 |    0.000000 |    0.000000 |    0.000000 |\n",
       "| 5 | ENSDART00000000221 | ENSDARG00000036830 |   1.83577 |   0.6542238 |   2.852017 |   0.607659 |   0.0000000 | 1319.154822 | 1208.695504 | 1303.539097 | 1300.581809 | 1427.809918 |\n",
       "| 6 | ENSDART00000000280 | ENSDARG00000076182 |   0.00000 |   0.0000000 |   0.000000 |   0.607659 |   0.6306486 |    9.257227 |    7.281298 |    9.445935 |    3.366476 |    3.424005 |\n",
       "\n"
      ],
      "text/plain": [
       "  transcript_id      gene_id            X128.cell.1 X128.cell.2 X128.cell.3\n",
       "1 ENSDART00000000042 ENSDARG00000033231 502.38914   448.1432987 484.842939 \n",
       "2 ENSDART00000000087 ENSDARG00000000086  55.68503    76.5441839  57.040346 \n",
       "3 ENSDART00000000192 ENSDARG00000000183 134.01123   116.4518353 154.579337 \n",
       "4 ENSDART00000000198 ENSDARG00000000189   0.00000     7.1964617   1.711210 \n",
       "5 ENSDART00000000221 ENSDARG00000036830   1.83577     0.6542238   2.852017 \n",
       "6 ENSDART00000000280 ENSDARG00000076182   0.00000     0.0000000   0.000000 \n",
       "  X128.cell.4 X128.cell.5 Day.4.1     Day.4.2     Day.4.3     Day.4.4    \n",
       "1 439.337449  458.4815065    0.000000    0.000000    1.049548    3.366476\n",
       "2  57.727604   70.6326392  112.243875  133.490467  119.648516  157.102203\n",
       "3 103.302028  128.0216586   78.686428   98.297526   73.468387   62.840881\n",
       "4   8.507226    6.9371342    0.000000    0.000000    0.000000    0.000000\n",
       "5   0.607659    0.0000000 1319.154822 1208.695504 1303.539097 1300.581809\n",
       "6   0.607659    0.6306486    9.257227    7.281298    9.445935    3.366476\n",
       "  Day.4.5    \n",
       "1    1.141335\n",
       "2  111.850817\n",
       "3   92.448124\n",
       "4    0.000000\n",
       "5 1427.809918\n",
       "6    3.424005"
      ]
     },
     "metadata": {},
     "output_type": "display_data"
    }
   ],
   "source": [
    "tpm_matrix <- read.csv(file.path(\"..\",\"subsampled-data\",\"sample-tpm-e90.csv\"))\n",
    "head(tpm_matrix)"
   ]
  },
  {
   "cell_type": "code",
   "execution_count": 60,
   "metadata": {},
   "outputs": [
    {
     "data": {
      "image/png": "[encoded data removed]",
      "text/plain": [
       "plot without title"
      ]
     },
     "metadata": {
      "image/png": {
       "height": 420,
       "width": 420
      },
      "text/plain": {
       "height": 420,
       "width": 420
      }
     },
     "output_type": "display_data"
    }
   ],
   "source": [
    "melted_tpm = tpm_matrix %>% pivot_longer(cols = starts_with(\"X\") | starts_with(\"Day\"))\n",
    "ggplot(melted_tpm) + geom_tile(aes(x = name, y = gene_id, fill = log(value,base=10))) + \n",
    "    scale_fill_distiller(palette = \"Spectral\") + theme(axis.ticks.y = element_blank(),\n",
    "                                                       axis.title.y = element_blank(),\n",
    "                                                       axis.text.y = element_blank()) + \n",
    "    theme(axis.text.x = element_text(angle = 90, vjust = 0.5, hjust=1)) + xlab(\"\")"
   ]
  },
  {
   "cell_type": "markdown",
   "metadata": {},
   "source": [
    "Now, let's calculate TPM values from `DESeq2`, "
   ]
  },
  {
   "cell_type": "markdown",
   "metadata": {},
   "source": [
    "We may, in some cases, want to use other measures to adjust our p-value, other than just using the default. Many packages to do that are available from `Bioconductor` and work directly within/alongside `DESeq2`. For now, lets explore what we have in terms of log-fold change using the utilities available within the package."
   ]
  },
  {
   "cell_type": "code",
   "execution_count": 44,
   "metadata": {},
   "outputs": [
    {
     "data": {
      "image/png": "[encoded data removed]",
      "text/plain": [
       "Plot with title “”"
      ]
     },
     "metadata": {
      "image/png": {
       "height": 420,
       "width": 420
      },
      "text/plain": {
       "height": 420,
       "width": 420
      }
     },
     "output_type": "display_data"
    }
   ],
   "source": [
    "plotMA(resOrdered)"
   ]
  },
  {
   "cell_type": "markdown",
   "metadata": {},
   "source": [
    "## Variance-stabilizing transformations\n",
    "\n",
    "We see that there is some major structure in the log-fold changes at the maximum combined value of the log-fold change and the mean of the normalized counts. Let's go a bit further and look a **variance-stabilizing transformation**."
   ]
  },
  {
   "cell_type": "code",
   "execution_count": null,
   "metadata": {},
   "outputs": [],
   "source": [
    "vsd <- vst(dds, blind=FALSE)\n",
    "rld <- rlog(dds, blind=FALSE)\n",
    "head(assay(vsd), 3)"
   ]
  }
 ],
 "metadata": {
  "kernelspec": {
   "display_name": "R",
   "language": "R",
   "name": "ir"
  },
  "language_info": {
   "codemirror_mode": "r",
   "file_extension": ".r",
   "mimetype": "text/x-r-source",
   "name": "R",
   "pygments_lexer": "r",
   "version": "3.6.1"
  }
 },
 "nbformat": 4,
 "nbformat_minor": 2
}
